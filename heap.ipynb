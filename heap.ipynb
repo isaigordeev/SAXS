{
 "cells": [
  {
   "cell_type": "code",
   "execution_count": 4,
   "outputs": [
    {
     "name": "stdout",
     "output_type": "stream",
     "text": [
      "res/076007_treated_xye.csv\n"
     ]
    },
    {
     "ename": "TypeError",
     "evalue": "expected str, bytes or os.PathLike object, not bool",
     "output_type": "error",
     "traceback": [
      "\u001B[0;31m---------------------------------------------------------------------------\u001B[0m",
      "\u001B[0;31mTypeError\u001B[0m                                 Traceback (most recent call last)",
      "Cell \u001B[0;32mIn[4], line 7\u001B[0m\n\u001B[1;32m      5\u001B[0m \u001B[38;5;28;01mfor\u001B[39;00m x \u001B[38;5;129;01min\u001B[39;00m os\u001B[38;5;241m.\u001B[39mlistdir(\u001B[38;5;124m'\u001B[39m\u001B[38;5;124mres\u001B[39m\u001B[38;5;124m'\u001B[39m)[:\u001B[38;5;241m5\u001B[39m]:\n\u001B[1;32m      6\u001B[0m     \u001B[38;5;28mprint\u001B[39m(\u001B[38;5;124m'\u001B[39m\u001B[38;5;124mres/\u001B[39m\u001B[38;5;132;01m{}\u001B[39;00m\u001B[38;5;124m'\u001B[39m\u001B[38;5;241m.\u001B[39mformat(x))\n\u001B[0;32m----> 7\u001B[0m     a \u001B[38;5;241m=\u001B[39m \u001B[43mProminenceKernel\u001B[49m\u001B[43m(\u001B[49m\u001B[38;5;124;43m'\u001B[39;49m\u001B[38;5;124;43m/res/\u001B[39;49m\u001B[38;5;132;43;01m{}\u001B[39;49;00m\u001B[38;5;124;43m'\u001B[39;49m\u001B[38;5;241;43m.\u001B[39;49m\u001B[43mformat\u001B[49m\u001B[43m(\u001B[49m\u001B[43mx\u001B[49m\u001B[43m)\u001B[49m\u001B[43m,\u001B[49m\u001B[43m \u001B[49m\u001B[43mis_preprocessing\u001B[49m\u001B[38;5;241;43m=\u001B[39;49m\u001B[38;5;28;43;01mFalse\u001B[39;49;00m\u001B[43m,\u001B[49m\u001B[43mis_background_reduction\u001B[49m\u001B[38;5;241;43m=\u001B[39;49m\u001B[38;5;28;43;01mTrue\u001B[39;49;00m\u001B[43m,\u001B[49m\u001B[43mis_filtering\u001B[49m\u001B[38;5;241;43m=\u001B[39;49m\u001B[38;5;28;43;01mFalse\u001B[39;49;00m\u001B[43m)\u001B[49m\n\u001B[1;32m      8\u001B[0m     a\u001B[38;5;241m.\u001B[39msample_processing()\n\u001B[1;32m      9\u001B[0m     plt\u001B[38;5;241m.\u001B[39mplot(a\u001B[38;5;241m.\u001B[39mcurrent_q_state, a\u001B[38;5;241m.\u001B[39mcurrent_I_state)\n",
      "File \u001B[0;32m~/Desktop/2023/saxs/saxs/gaussian_processing/peak/prominence_kernel.py:20\u001B[0m, in \u001B[0;36mProminenceKernel.__init__\u001B[0;34m(self, data_dir, is_preprocessing, is_background_reduction, is_filtering)\u001B[0m\n\u001B[1;32m     15\u001B[0m \u001B[38;5;28;01mdef\u001B[39;00m \u001B[38;5;21m__init__\u001B[39m(\u001B[38;5;28mself\u001B[39m, data_dir,\n\u001B[1;32m     16\u001B[0m              is_preprocessing\u001B[38;5;241m=\u001B[39m\u001B[38;5;28;01mTrue\u001B[39;00m,\n\u001B[1;32m     17\u001B[0m              is_background_reduction\u001B[38;5;241m=\u001B[39m\u001B[38;5;28;01mTrue\u001B[39;00m,\n\u001B[1;32m     18\u001B[0m              is_filtering\u001B[38;5;241m=\u001B[39m\u001B[38;5;28;01mTrue\u001B[39;00m,\n\u001B[1;32m     19\u001B[0m              ):\n\u001B[0;32m---> 20\u001B[0m     \u001B[38;5;28;43msuper\u001B[39;49m\u001B[43m(\u001B[49m\u001B[43m)\u001B[49m\u001B[38;5;241;43m.\u001B[39;49m\u001B[38;5;21;43m__init__\u001B[39;49m\u001B[43m(\u001B[49m\u001B[43mdata_dir\u001B[49m\u001B[43m,\u001B[49m\n\u001B[1;32m     21\u001B[0m \u001B[43m                     \u001B[49m\u001B[43mis_preprocessing\u001B[49m\u001B[43m,\u001B[49m\n\u001B[1;32m     22\u001B[0m \u001B[43m                     \u001B[49m\u001B[43mis_background_reduction\u001B[49m\u001B[43m,\u001B[49m\n\u001B[1;32m     23\u001B[0m \u001B[43m                     \u001B[49m\u001B[43mis_filtering\u001B[49m\u001B[43m,\u001B[49m\n\u001B[1;32m     24\u001B[0m \u001B[43m                     \u001B[49m\u001B[43m)\u001B[49m\n\u001B[1;32m     26\u001B[0m     \u001B[38;5;28mself\u001B[39m\u001B[38;5;241m.\u001B[39mpeaks \u001B[38;5;241m=\u001B[39m \u001B[38;5;28;01mNone\u001B[39;00m\n",
      "File \u001B[0;32m~/Desktop/2023/saxs/saxs/gaussian_processing/peak/default_kernel.py:19\u001B[0m, in \u001B[0;36mDefaultPeakKernel.__init__\u001B[0;34m(self, data_dir, is_preprocessing, is_background_reduction, is_filtering)\u001B[0m\n\u001B[1;32m     14\u001B[0m \u001B[38;5;28;01mdef\u001B[39;00m \u001B[38;5;21m__init__\u001B[39m(\u001B[38;5;28mself\u001B[39m, data_dir,\n\u001B[1;32m     15\u001B[0m              is_preprocessing\u001B[38;5;241m=\u001B[39m\u001B[38;5;28;01mTrue\u001B[39;00m,\n\u001B[1;32m     16\u001B[0m              is_background_reduction\u001B[38;5;241m=\u001B[39m\u001B[38;5;28;01mTrue\u001B[39;00m,\n\u001B[1;32m     17\u001B[0m              is_filtering\u001B[38;5;241m=\u001B[39m\u001B[38;5;28;01mTrue\u001B[39;00m,\n\u001B[1;32m     18\u001B[0m              ):\n\u001B[0;32m---> 19\u001B[0m     \u001B[38;5;28;43msuper\u001B[39;49m\u001B[43m(\u001B[49m\u001B[43m)\u001B[49m\u001B[38;5;241;43m.\u001B[39;49m\u001B[38;5;21;43m__init__\u001B[39;49m\u001B[43m(\u001B[49m\u001B[43mdata_dir\u001B[49m\u001B[43m,\u001B[49m\n\u001B[1;32m     20\u001B[0m \u001B[43m                     \u001B[49m\u001B[43mis_preprocessing\u001B[49m\u001B[43m,\u001B[49m\n\u001B[1;32m     21\u001B[0m \u001B[43m                     \u001B[49m\u001B[43mis_background_reduction\u001B[49m\u001B[43m,\u001B[49m\n\u001B[1;32m     22\u001B[0m \u001B[43m                     \u001B[49m\u001B[43mis_filtering\u001B[49m\u001B[43m,\u001B[49m\n\u001B[1;32m     23\u001B[0m \u001B[43m                     \u001B[49m\u001B[43m)\u001B[49m\n\u001B[1;32m     25\u001B[0m     \u001B[38;5;28mself\u001B[39m\u001B[38;5;241m.\u001B[39mq_cut \u001B[38;5;241m=\u001B[39m \u001B[38;5;28;01mNone\u001B[39;00m\n\u001B[1;32m     26\u001B[0m     \u001B[38;5;28mself\u001B[39m\u001B[38;5;241m.\u001B[39mI_cut \u001B[38;5;241m=\u001B[39m \u001B[38;5;28;01mNone\u001B[39;00m\n",
      "File \u001B[0;32m~/Desktop/2023/saxs/saxs/gaussian_processing/peak/abstract_kernel.py:57\u001B[0m, in \u001B[0;36mAbstractPeakKernel.__init__\u001B[0;34m(self, data_dir, file_analysis_dir, is_preprocessing, is_background_reduction, is_filtering)\u001B[0m\n\u001B[1;32m     55\u001B[0m \u001B[38;5;28mself\u001B[39m\u001B[38;5;241m.\u001B[39mdata_dir \u001B[38;5;241m=\u001B[39m data_dir\n\u001B[1;32m     56\u001B[0m \u001B[38;5;28mself\u001B[39m\u001B[38;5;241m.\u001B[39mfile_analysis_dir \u001B[38;5;241m=\u001B[39m file_analysis_dir\n\u001B[0;32m---> 57\u001B[0m \u001B[38;5;28mself\u001B[39m\u001B[38;5;241m.\u001B[39mfile_analysis_dir_peaks \u001B[38;5;241m=\u001B[39m \u001B[43mos\u001B[49m\u001B[38;5;241;43m.\u001B[39;49m\u001B[43mpath\u001B[49m\u001B[38;5;241;43m.\u001B[39;49m\u001B[43mjoin\u001B[49m\u001B[43m(\u001B[49m\u001B[38;5;28;43mself\u001B[39;49m\u001B[38;5;241;43m.\u001B[39;49m\u001B[43mfile_analysis_dir\u001B[49m\u001B[43m,\u001B[49m\u001B[43m \u001B[49m\u001B[38;5;124;43m'\u001B[39;49m\u001B[38;5;124;43mpeaks\u001B[39;49m\u001B[38;5;124;43m'\u001B[39;49m\u001B[43m)\u001B[49m\n\u001B[1;32m     58\u001B[0m \u001B[38;5;28mself\u001B[39m\u001B[38;5;241m.\u001B[39mq_raw, \u001B[38;5;28mself\u001B[39m\u001B[38;5;241m.\u001B[39mI_raw, \u001B[38;5;28mself\u001B[39m\u001B[38;5;241m.\u001B[39mdI \u001B[38;5;241m=\u001B[39m read_data(\u001B[38;5;28mself\u001B[39m\u001B[38;5;241m.\u001B[39mdata_dir)\n\u001B[1;32m     60\u001B[0m \u001B[38;5;28mself\u001B[39m\u001B[38;5;241m.\u001B[39mnoisy_irrelevant_cut_point \u001B[38;5;241m=\u001B[39m \u001B[38;5;241m0\u001B[39m\n",
      "File \u001B[0;32m/Library/Developer/CommandLineTools/Library/Frameworks/Python3.framework/Versions/3.8/lib/python3.8/posixpath.py:76\u001B[0m, in \u001B[0;36mjoin\u001B[0;34m(a, *p)\u001B[0m\n\u001B[1;32m     71\u001B[0m \u001B[38;5;28;01mdef\u001B[39;00m \u001B[38;5;21mjoin\u001B[39m(a, \u001B[38;5;241m*\u001B[39mp):\n\u001B[1;32m     72\u001B[0m \u001B[38;5;250m    \u001B[39m\u001B[38;5;124;03m\"\"\"Join two or more pathname components, inserting '/' as needed.\u001B[39;00m\n\u001B[1;32m     73\u001B[0m \u001B[38;5;124;03m    If any component is an absolute path, all previous path components\u001B[39;00m\n\u001B[1;32m     74\u001B[0m \u001B[38;5;124;03m    will be discarded.  An empty last part will result in a path that\u001B[39;00m\n\u001B[1;32m     75\u001B[0m \u001B[38;5;124;03m    ends with a separator.\"\"\"\u001B[39;00m\n\u001B[0;32m---> 76\u001B[0m     a \u001B[38;5;241m=\u001B[39m \u001B[43mos\u001B[49m\u001B[38;5;241;43m.\u001B[39;49m\u001B[43mfspath\u001B[49m\u001B[43m(\u001B[49m\u001B[43ma\u001B[49m\u001B[43m)\u001B[49m\n\u001B[1;32m     77\u001B[0m     sep \u001B[38;5;241m=\u001B[39m _get_sep(a)\n\u001B[1;32m     78\u001B[0m     path \u001B[38;5;241m=\u001B[39m a\n",
      "\u001B[0;31mTypeError\u001B[0m: expected str, bytes or os.PathLike object, not bool"
     ]
    }
   ],
   "source": [
    "from saxs.gaussian_processing.peak.prominence_kernel import ProminenceKernel\n",
    "import os\n",
    "import matplotlib.pyplot as plt\n",
    "\n",
    "for x in os.listdir('res')[:5]:\n",
    "    print('res/{}'.format(x))\n",
    "    a = ProminenceKernel('res/{}'.format(x), is_preprocessing=False,is_background_reduction=True,is_filtering=False)\n",
    "    a.sample_processing()\n",
    "    plt.plot(a.current_q_state, a.current_I_state)\n",
    "# os.listdir('res')[:5]"
   ],
   "metadata": {
    "collapsed": false
   }
  },
  {
   "cell_type": "code",
   "execution_count": 6,
   "outputs": [
    {
     "name": "stdout",
     "output_type": "stream",
     "text": [
      "/Users/isaigordeev/Desktop/2023/saxs/results\n",
      "/Users/isaigordeev/Desktop/2023/saxs/results/plots/075775_treated_xye.csv\n",
      "/Users/isaigordeev/Desktop/2023/saxs/results/plots/075775_treated_xye.csv/peaks\n"
     ]
    },
    {
     "ename": "TypeError",
     "evalue": "__init__() takes from 2 to 5 positional arguments but 7 were given",
     "output_type": "error",
     "traceback": [
      "\u001B[0;31m---------------------------------------------------------------------------\u001B[0m",
      "\u001B[0;31mTypeError\u001B[0m                                 Traceback (most recent call last)",
      "Cell \u001B[0;32mIn[6], line 12\u001B[0m\n\u001B[1;32m      9\u001B[0m \u001B[38;5;66;03m# a = ProminenceKernel('/Users/isaigordeev/Desktop/2023/saxs/test_processing_data/075775_treated_xye.csv')\u001B[39;00m\n\u001B[1;32m     11\u001B[0m a \u001B[38;5;241m=\u001B[39m PeakApplication(\u001B[38;5;124m'\u001B[39m\u001B[38;5;124m/Users/isaigordeev/Desktop/2023/saxs/test_processing_data/\u001B[39m\u001B[38;5;124m'\u001B[39m, ProminenceKernel)\n\u001B[0;32m---> 12\u001B[0m \u001B[43ma\u001B[49m\u001B[38;5;241;43m.\u001B[39;49m\u001B[43mdirectory_classification\u001B[49m\u001B[43m(\u001B[49m\u001B[43m)\u001B[49m\n",
      "File \u001B[0;32m~/Desktop/2023/saxs/saxs/gaussian_processing/peak/peak_application.py:49\u001B[0m, in \u001B[0;36mPeakApplication.directory_classification\u001B[0;34m(self)\u001B[0m\n\u001B[1;32m     47\u001B[0m     sample \u001B[38;5;241m=\u001B[39m \u001B[38;5;124m'\u001B[39m\u001B[38;5;132;01m{}\u001B[39;00m\u001B[38;5;132;01m{}\u001B[39;00m\u001B[38;5;124m'\u001B[39m\u001B[38;5;241m.\u001B[39mformat(sample_name, sample_ext)\n\u001B[1;32m     48\u001B[0m     \u001B[38;5;28mself\u001B[39m\u001B[38;5;241m.\u001B[39mset_output_peak_directories(sample)\n\u001B[0;32m---> 49\u001B[0m     \u001B[38;5;28mself\u001B[39m\u001B[38;5;241m.\u001B[39mdata[sample] \u001B[38;5;241m=\u001B[39m \u001B[38;5;28;43mself\u001B[39;49m\u001B[38;5;241;43m.\u001B[39;49m\u001B[43mkernel\u001B[49m\u001B[43m(\u001B[49m\u001B[43mos\u001B[49m\u001B[38;5;241;43m.\u001B[39;49m\u001B[43mpath\u001B[49m\u001B[38;5;241;43m.\u001B[39;49m\u001B[43mjoin\u001B[49m\u001B[43m(\u001B[49m\u001B[38;5;28;43mself\u001B[39;49m\u001B[38;5;241;43m.\u001B[39;49m\u001B[43mdata_directory\u001B[49m\u001B[43m,\u001B[49m\u001B[43m \u001B[49m\u001B[43msample\u001B[49m\u001B[43m)\u001B[49m\u001B[43m,\u001B[49m\u001B[43m \u001B[49m\u001B[38;5;28;43mself\u001B[39;49m\u001B[38;5;241;43m.\u001B[39;49m\u001B[43mfile_analysis_dir\u001B[49m\u001B[43m,\u001B[49m\u001B[43m \u001B[49m\u001B[38;5;28;43;01mFalse\u001B[39;49;00m\u001B[43m,\u001B[49m\u001B[43m \u001B[49m\u001B[38;5;28;43;01mTrue\u001B[39;49;00m\u001B[43m,\u001B[49m\u001B[43m \u001B[49m\u001B[38;5;28;43;01mFalse\u001B[39;49;00m\u001B[43m,\u001B[49m\u001B[43m \u001B[49m\u001B[38;5;28;43;01mFalse\u001B[39;49;00m\u001B[43m)\u001B[49m()\n\u001B[1;32m     51\u001B[0m \u001B[38;5;28mself\u001B[39m\u001B[38;5;241m.\u001B[39mwrite_peaks_data()\n",
      "\u001B[0;31mTypeError\u001B[0m: __init__() takes from 2 to 5 positional arguments but 7 were given"
     ]
    }
   ],
   "source": [
    "from datetime import datetime\n",
    "\n",
    "from saxs.gaussian_processing.peak.peak_application import PeakApplication\n",
    "from saxs.gaussian_processing.peak.prominence_kernel import ProminenceKernel\n",
    "\n",
    "now = datetime.now()\n",
    "\n",
    "\n",
    "# a = ProminenceKernel('/Users/isaigordeev/Desktop/2023/saxs/test_processing_data/075775_treated_xye.csv')\n",
    "\n",
    "a = PeakApplication('/Users/isaigordeev/Desktop/2023/saxs/test_processing_data/', ProminenceKernel)\n",
    "a.directory_classification()\n"
   ],
   "metadata": {
    "collapsed": false
   }
  },
  {
   "cell_type": "code",
   "execution_count": null,
   "outputs": [],
   "source": [],
   "metadata": {
    "collapsed": false
   }
  }
 ],
 "metadata": {
  "kernelspec": {
   "display_name": "Python 3",
   "language": "python",
   "name": "python3"
  },
  "language_info": {
   "codemirror_mode": {
    "name": "ipython",
    "version": 2
   },
   "file_extension": ".py",
   "mimetype": "text/x-python",
   "name": "python",
   "nbconvert_exporter": "python",
   "pygments_lexer": "ipython2",
   "version": "2.7.6"
  }
 },
 "nbformat": 4,
 "nbformat_minor": 0
}
