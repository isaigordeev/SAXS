{
 "cells": [
  {
   "cell_type": "code",
   "execution_count": 6,
   "metadata": {},
   "outputs": [
    {
     "ename": "RuntimeError",
     "evalue": "The archive ILSVRC2012_devkit_t12.tar.gz is not present in the root directory or is corrupted. You need to download it externally and place it in ./.",
     "output_type": "error",
     "traceback": [
      "\u001B[0;31m---------------------------------------------------------------------------\u001B[0m",
      "\u001B[0;31mRuntimeError\u001B[0m                              Traceback (most recent call last)",
      "Cell \u001B[0;32mIn[6], line 10\u001B[0m\n\u001B[1;32m      7\u001B[0m \u001B[39mfrom\u001B[39;00m \u001B[39mtorchvision\u001B[39;00m \u001B[39mimport\u001B[39;00m datasets\n\u001B[1;32m      9\u001B[0m \u001B[39m# Load the ImageNet dataset\u001B[39;00m\n\u001B[0;32m---> 10\u001B[0m imagenet_data \u001B[39m=\u001B[39m datasets\u001B[39m.\u001B[39;49mImageNet(root\u001B[39m=\u001B[39;49m\u001B[39m'\u001B[39;49m\u001B[39m./\u001B[39;49m\u001B[39m'\u001B[39;49m)\n\u001B[1;32m     12\u001B[0m \u001B[39m# Retrieve the class names\u001B[39;00m\n\u001B[1;32m     13\u001B[0m class_names \u001B[39m=\u001B[39m imagenet_data\u001B[39m.\u001B[39mclasses\n",
      "File \u001B[0;32m~/Desktop/2023/SAXS/venv/lib/python3.10/site-packages/torchvision/datasets/imagenet.py:46\u001B[0m, in \u001B[0;36mImageNet.__init__\u001B[0;34m(self, root, split, **kwargs)\u001B[0m\n\u001B[1;32m     43\u001B[0m root \u001B[39m=\u001B[39m \u001B[39mself\u001B[39m\u001B[39m.\u001B[39mroot \u001B[39m=\u001B[39m os\u001B[39m.\u001B[39mpath\u001B[39m.\u001B[39mexpanduser(root)\n\u001B[1;32m     44\u001B[0m \u001B[39mself\u001B[39m\u001B[39m.\u001B[39msplit \u001B[39m=\u001B[39m verify_str_arg(split, \u001B[39m\"\u001B[39m\u001B[39msplit\u001B[39m\u001B[39m\"\u001B[39m, (\u001B[39m\"\u001B[39m\u001B[39mtrain\u001B[39m\u001B[39m\"\u001B[39m, \u001B[39m\"\u001B[39m\u001B[39mval\u001B[39m\u001B[39m\"\u001B[39m))\n\u001B[0;32m---> 46\u001B[0m \u001B[39mself\u001B[39;49m\u001B[39m.\u001B[39;49mparse_archives()\n\u001B[1;32m     47\u001B[0m wnid_to_classes \u001B[39m=\u001B[39m load_meta_file(\u001B[39mself\u001B[39m\u001B[39m.\u001B[39mroot)[\u001B[39m0\u001B[39m]\n\u001B[1;32m     49\u001B[0m \u001B[39msuper\u001B[39m()\u001B[39m.\u001B[39m\u001B[39m__init__\u001B[39m(\u001B[39mself\u001B[39m\u001B[39m.\u001B[39msplit_folder, \u001B[39m*\u001B[39m\u001B[39m*\u001B[39mkwargs)\n",
      "File \u001B[0;32m~/Desktop/2023/SAXS/venv/lib/python3.10/site-packages/torchvision/datasets/imagenet.py:59\u001B[0m, in \u001B[0;36mImageNet.parse_archives\u001B[0;34m(self)\u001B[0m\n\u001B[1;32m     57\u001B[0m \u001B[39mdef\u001B[39;00m \u001B[39mparse_archives\u001B[39m(\u001B[39mself\u001B[39m) \u001B[39m-\u001B[39m\u001B[39m>\u001B[39m \u001B[39mNone\u001B[39;00m:\n\u001B[1;32m     58\u001B[0m     \u001B[39mif\u001B[39;00m \u001B[39mnot\u001B[39;00m check_integrity(os\u001B[39m.\u001B[39mpath\u001B[39m.\u001B[39mjoin(\u001B[39mself\u001B[39m\u001B[39m.\u001B[39mroot, META_FILE)):\n\u001B[0;32m---> 59\u001B[0m         parse_devkit_archive(\u001B[39mself\u001B[39;49m\u001B[39m.\u001B[39;49mroot)\n\u001B[1;32m     61\u001B[0m     \u001B[39mif\u001B[39;00m \u001B[39mnot\u001B[39;00m os\u001B[39m.\u001B[39mpath\u001B[39m.\u001B[39misdir(\u001B[39mself\u001B[39m\u001B[39m.\u001B[39msplit_folder):\n\u001B[1;32m     62\u001B[0m         \u001B[39mif\u001B[39;00m \u001B[39mself\u001B[39m\u001B[39m.\u001B[39msplit \u001B[39m==\u001B[39m \u001B[39m\"\u001B[39m\u001B[39mtrain\u001B[39m\u001B[39m\"\u001B[39m:\n",
      "File \u001B[0;32m~/Desktop/2023/SAXS/venv/lib/python3.10/site-packages/torchvision/datasets/imagenet.py:140\u001B[0m, in \u001B[0;36mparse_devkit_archive\u001B[0;34m(root, file)\u001B[0m\n\u001B[1;32m    137\u001B[0m     file \u001B[39m=\u001B[39m archive_meta[\u001B[39m0\u001B[39m]\n\u001B[1;32m    138\u001B[0m md5 \u001B[39m=\u001B[39m archive_meta[\u001B[39m1\u001B[39m]\n\u001B[0;32m--> 140\u001B[0m _verify_archive(root, file, md5)\n\u001B[1;32m    142\u001B[0m \u001B[39mwith\u001B[39;00m get_tmp_dir() \u001B[39mas\u001B[39;00m tmp_dir:\n\u001B[1;32m    143\u001B[0m     extract_archive(os\u001B[39m.\u001B[39mpath\u001B[39m.\u001B[39mjoin(root, file), tmp_dir)\n",
      "File \u001B[0;32m~/Desktop/2023/SAXS/venv/lib/python3.10/site-packages/torchvision/datasets/imagenet.py:96\u001B[0m, in \u001B[0;36m_verify_archive\u001B[0;34m(root, file, md5)\u001B[0m\n\u001B[1;32m     91\u001B[0m \u001B[39mif\u001B[39;00m \u001B[39mnot\u001B[39;00m check_integrity(os\u001B[39m.\u001B[39mpath\u001B[39m.\u001B[39mjoin(root, file), md5):\n\u001B[1;32m     92\u001B[0m     msg \u001B[39m=\u001B[39m (\n\u001B[1;32m     93\u001B[0m         \u001B[39m\"\u001B[39m\u001B[39mThe archive \u001B[39m\u001B[39m{}\u001B[39;00m\u001B[39m is not present in the root directory or is corrupted. \u001B[39m\u001B[39m\"\u001B[39m\n\u001B[1;32m     94\u001B[0m         \u001B[39m\"\u001B[39m\u001B[39mYou need to download it externally and place it in \u001B[39m\u001B[39m{}\u001B[39;00m\u001B[39m.\u001B[39m\u001B[39m\"\u001B[39m\n\u001B[1;32m     95\u001B[0m     )\n\u001B[0;32m---> 96\u001B[0m     \u001B[39mraise\u001B[39;00m \u001B[39mRuntimeError\u001B[39;00m(msg\u001B[39m.\u001B[39mformat(file, root))\n",
      "\u001B[0;31mRuntimeError\u001B[0m: The archive ILSVRC2012_devkit_t12.tar.gz is not present in the root directory or is corrupted. You need to download it externally and place it in ./."
     ]
    }
   ],
   "source": [
    "import torch\n",
    "from torchvision import transforms\n",
    "from PIL import Image\n",
    "import timm\n",
    "import matplotlib.pyplot as plt\n",
    "\n",
    "from torchvision import datasets\n",
    "\n",
    "# Load the ImageNet dataset\n",
    "imagenet_data = datasets.ImageNet(root='')\n",
    "\n",
    "# Retrieve the class names\n",
    "class_names = imagenet_data.classes\n",
    "\n",
    "\n",
    "image_path = 'dog.jpg'\n",
    "\n",
    "\n",
    "preprocess = transforms.Compose([\n",
    "    transforms.Resize((224, 224)), \n",
    "    transforms.ToTensor(),  \n",
    "    transforms.Normalize(mean=[0.485, 0.456, 0.406], std=[0.229, 0.224, 0.225]), \n",
    "])\n",
    "\n",
    "\n",
    "image = Image.open(image_path).convert('RGB')\n",
    "input_data = preprocess(image).unsqueeze(0)  \n",
    "\n",
    "\n",
    "model_vim = timm.create_model('vit_base_patch16_224', pretrained=True)\n",
    "\n",
    "\n",
    "\n",
    "model_vim.eval()\n",
    "\n",
    "\n",
    "with torch.no_grad():\n",
    "    output = model_vim(input_data)\n",
    "\n",
    "_, predicted_class = output.max(1)\n",
    "\n",
    "plt.imshow(image)\n",
    "plt.show()\n",
    "print(\"Predicted class:\", class_names[predicted_class.item()])\n"
   ]
  },
  {
   "cell_type": "code",
   "execution_count": null,
   "metadata": {},
   "outputs": [],
   "source": []
  }
 ],
 "metadata": {
  "kernelspec": {
   "display_name": "venv",
   "language": "python",
   "name": "python3"
  },
  "language_info": {
   "codemirror_mode": {
    "name": "ipython",
    "version": 3
   },
   "file_extension": ".py",
   "mimetype": "text/x-python",
   "name": "python",
   "nbconvert_exporter": "python",
   "pygments_lexer": "ipython3",
   "version": "3.10.9"
  },
  "orig_nbformat": 4
 },
 "nbformat": 4,
 "nbformat_minor": 2
}
